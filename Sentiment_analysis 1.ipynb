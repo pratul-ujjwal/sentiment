{
 "cells": [
  {
   "cell_type": "code",
   "execution_count": 1,
   "metadata": {},
   "outputs": [
    {
     "data": {
      "text/plain": [
       "Unnamed: 0              int64\n",
       "Unnamed: 0.1            int64\n",
       "ItemID                  int64\n",
       "Sentiment               int64\n",
       "SentimentText          object\n",
       "integer_conversion     object\n",
       "split                 float64\n",
       "dtype: object"
      ]
     },
     "execution_count": 1,
     "metadata": {},
     "output_type": "execute_result"
    }
   ],
   "source": [
    "import pandas as pd\n",
    "from sklearn.feature_extraction.text import CountVectorizer\n",
    "from sklearn.naive_bayes import MultinomialNB\n",
    "from sklearn.pipeline import Pipeline\n",
    "import numpy as np\n",
    "from sklearn import metrics\n",
    "from nltk import classify \n",
    "import sklearn.metrics as metrics\n",
    "\n",
    "categories =[0, 1]\n",
    "\n",
    "trainf = pd.read_csv(\"training_data (1).csv\")\n",
    "testf = pd.read_csv(\"test_data (1).csv\")\n",
    "\n",
    "X_train =trainf['SentimentText']\n",
    "Y_train = trainf['Sentiment']\n",
    "X_test = testf['SentimentText']\n",
    "Y_test = testf['Sentiment']\n",
    "SentimentText = trainf['SentimentText']\n",
    "label = trainf['Sentiment']\n",
    "trainf.dtypes"
   ]
  },
  {
   "cell_type": "code",
   "execution_count": 2,
   "metadata": {},
   "outputs": [
    {
     "data": {
      "text/plain": [
       "<Figure size 300x500 with 1 Axes>"
      ]
     },
     "metadata": {},
     "output_type": "display_data"
    }
   ],
   "source": [
    "import matplotlib.pyplot as plt\n",
    "import seaborn as sns\n",
    "plt.figure(figsize=(3,5))\n",
    "sns.countplot(x=\"Sentiment\", data=trainf, palette=\"viridis\")\n",
    "plt.xlabel(\"Negative Tweets =0,                Positive tweets=1\")\n",
    "plt.ylabel(\"No of Tweets\")\n",
    "plt.show()"
   ]
  },
  {
   "cell_type": "markdown",
   "metadata": {},
   "source": [
    "##### Splitting the dataset\n",
    "After preprocessing we divide the data in test and train set. The data we use is usually split into training data and test data. The training set contains a known output and the model learns on this data and the test dataset is to test our model’s prediction. We did this using SciKit-Learn library in Python using the train_test_split method. In this project we have divided the data in 75: 25 ratio. That is, the training size is 75% and testing size is 25% of the whole data."
   ]
  },
  {
   "cell_type": "code",
   "execution_count": 14,
   "metadata": {},
   "outputs": [
    {
     "name": "stderr",
     "output_type": "stream",
     "text": [
      "D:\\Anaconda3\\lib\\site-packages\\sklearn\\linear_model\\logistic.py:432: FutureWarning: Default solver will be changed to 'lbfgs' in 0.22. Specify a solver to silence this warning.\n",
      "  FutureWarning)\n"
     ]
    },
    {
     "name": "stdout",
     "output_type": "stream",
     "text": [
      "[0 0 0 ... 1 1 0]\n",
      "Accuracy of Logistic regression = 0.7663724801925584\n",
      "Confusion Matrix Logistic Regression\n",
      "[[6029 2751]\n",
      " [1908 9254]]\n",
      "Logistic Regression Accuracy Score = 0.7988949799283465\n",
      "Accuracy of Naive Bayes classifer = 0.757797613077926\n",
      "Confusion Matrix Naive Bayes model\n",
      "[[6248 2532]\n",
      " [2298 8864]]\n",
      "Naive Bayes Classifier Accuracy Score = 0.7858852735171558\n",
      "[0 1 0 ... 1 1 1]\n",
      "Accuracy Support Vector Machine = 0.7632133186240097:\n",
      " Confusion Matrix Support Vector Machine model\n",
      "[[5829 2951]\n",
      " [1771 9391]]\n",
      "Support Vector Machine Accuracy Score = 0.7990980258679374\n",
      "[0 0 0 ... 1 1 1]\n",
      "Saved output to file.\n"
     ]
    }
   ],
   "source": [
    "# from sklearn.model_selection import train_test_split\n",
    "# X_train,X_test,Y_train,Y_test = train_test_split(SentimentText, label, test_size=0.25, random_state=0) \n",
    "\n",
    "from sklearn.linear_model import LogisticRegression\n",
    "Pipe_regression= Pipeline([('vect', CountVectorizer()),('Classifier', LogisticRegression())])\n",
    "Pipe_regression.fit(X_train,Y_train)\n",
    "pred = Pipe_regression.predict(X_test)\n",
    "pred_LR = Pipe_regression.predict(X_train)\n",
    "print(pred)\n",
    "\n",
    "print('Accuracy of Logistic regression = %r' %np.mean(pred == Y_test) )\n",
    "print('Confusion Matrix Logistic Regression')\n",
    "print(metrics.confusion_matrix(Y_test, pred))\n",
    "print(\"Logistic Regression Accuracy Score =\", metrics.f1_score(Y_test, pred))\n",
    "\n",
    "from nltk import NaiveBayesClassifier\n",
    "Pipe_NaiveBayes = Pipeline([('vect', CountVectorizer()),('Classifier', MultinomialNB()),])\n",
    "Pipe_NaiveBayes.fit(X_train,Y_train)\n",
    "pred = Pipe_NaiveBayes.predict(X_test)\n",
    "pred_NB = Pipe_NaiveBayes.predict(X_train)\n",
    "\n",
    "print('Accuracy of Naive Bayes classifer = %r' % np.mean(pred == Y_test))\n",
    "print('Confusion Matrix Naive Bayes model')\n",
    "print(metrics.confusion_matrix(Y_test, pred))\n",
    "print(\"Naive Bayes Classifier Accuracy Score =\", metrics.f1_score(Y_test, pred))\n",
    "print(pred)\n",
    "\n",
    "from sklearn.linear_model import SGDClassifier\n",
    "Pipe_SGD = Pipeline([('vect', CountVectorizer()),('Classifier', SGDClassifier())])\n",
    "Pipe_SGD.fit(X_train, Y_train)\n",
    "pred = Pipe_SGD.predict(X_test)\n",
    "pred_SGD = Pipe_SGD.predict(X_train)\n",
    "\n",
    "print('Accuracy Support Vector Machine = %r:' %np.mean(pred == Y_test))\n",
    "print(' Confusion Matrix Support Vector Machine model')\n",
    "print(metrics.confusion_matrix(Y_test, pred))\n",
    "print(\"Support Vector Machine Accuracy Score =\", metrics.f1_score(Y_test, pred))\n",
    "print(pred)\n",
    "\n",
    "\n",
    "table = pd.DataFrame({'Tweet':X_train,'Label':Y_train,'LR_Prediction':pred_LR,'NB_Prediction':pred_NB,'SGD_Prediction':pred_SGD})\n",
    "writer = pd.ExcelWriter('Output.xlsx', engine='xlsxwriter')\n",
    "table.to_excel(writer, sheet_name='Output')\n",
    "writer.save()\n",
    "\n",
    "print('Saved output to file.')"
   ]
  },
  {
   "cell_type": "markdown",
   "metadata": {},
   "source": [
    "Benchmark Classification algorithms for Model Selection\n",
    "Model Selection is usefull in knowing which Model is Predicting the best results. As we have a number of different types of classification algorithms used in Machine Learning. We are using sklearn library to import all the methods of classification algorithms. We will be using--NaiveBayesClassifier, Support Vector Machine model and Logistic Regression Algorithm"
   ]
  },
  {
   "cell_type": "code",
   "execution_count": 15,
   "metadata": {},
   "outputs": [
    {
     "data": {
      "text/html": [
       "<div>\n",
       "<style scoped>\n",
       "    .dataframe tbody tr th:only-of-type {\n",
       "        vertical-align: middle;\n",
       "    }\n",
       "\n",
       "    .dataframe tbody tr th {\n",
       "        vertical-align: top;\n",
       "    }\n",
       "\n",
       "    .dataframe thead th {\n",
       "        text-align: right;\n",
       "    }\n",
       "</style>\n",
       "<table border=\"1\" class=\"dataframe\">\n",
       "  <thead>\n",
       "    <tr style=\"text-align: right;\">\n",
       "      <th></th>\n",
       "      <th>Tweet</th>\n",
       "      <th>Label</th>\n",
       "      <th>LR_Prediction</th>\n",
       "      <th>NB_Prediction</th>\n",
       "      <th>SGD_Prediction</th>\n",
       "    </tr>\n",
       "  </thead>\n",
       "  <tbody>\n",
       "    <tr>\n",
       "      <td>0</td>\n",
       "      <td>omg already o</td>\n",
       "      <td>1</td>\n",
       "      <td>0</td>\n",
       "      <td>0</td>\n",
       "      <td>0</td>\n",
       "    </tr>\n",
       "    <tr>\n",
       "      <td>1</td>\n",
       "      <td>think mi bf cheating tt</td>\n",
       "      <td>0</td>\n",
       "      <td>0</td>\n",
       "      <td>0</td>\n",
       "      <td>0</td>\n",
       "    </tr>\n",
       "    <tr>\n",
       "      <td>2</td>\n",
       "      <td>just worry too much</td>\n",
       "      <td>0</td>\n",
       "      <td>1</td>\n",
       "      <td>1</td>\n",
       "      <td>1</td>\n",
       "    </tr>\n",
       "    <tr>\n",
       "      <td>3</td>\n",
       "      <td>juuuuuuuuuuuuuuuuussssst chillin</td>\n",
       "      <td>1</td>\n",
       "      <td>1</td>\n",
       "      <td>1</td>\n",
       "      <td>1</td>\n",
       "    </tr>\n",
       "    <tr>\n",
       "      <td>4</td>\n",
       "      <td>sunny again work tomorrow tv tonight</td>\n",
       "      <td>0</td>\n",
       "      <td>0</td>\n",
       "      <td>0</td>\n",
       "      <td>0</td>\n",
       "    </tr>\n",
       "  </tbody>\n",
       "</table>\n",
       "</div>"
      ],
      "text/plain": [
       "                                  Tweet  Label  LR_Prediction  NB_Prediction  \\\n",
       "0                         omg already o      1              0              0   \n",
       "1               think mi bf cheating tt      0              0              0   \n",
       "2                   just worry too much      0              1              1   \n",
       "3      juuuuuuuuuuuuuuuuussssst chillin      1              1              1   \n",
       "4  sunny again work tomorrow tv tonight      0              0              0   \n",
       "\n",
       "   SGD_Prediction  \n",
       "0               0  \n",
       "1               0  \n",
       "2               1  \n",
       "3               1  \n",
       "4               0  "
      ]
     },
     "execution_count": 15,
     "metadata": {},
     "output_type": "execute_result"
    }
   ],
   "source": [
    "table.head()"
   ]
  },
  {
   "cell_type": "code",
   "execution_count": null,
   "metadata": {},
   "outputs": [],
   "source": []
  },
  {
   "cell_type": "code",
   "execution_count": null,
   "metadata": {},
   "outputs": [],
   "source": []
  }
 ],
 "metadata": {
  "kernelspec": {
   "display_name": "Python 3",
   "language": "python",
   "name": "python3"
  },
  "language_info": {
   "codemirror_mode": {
    "name": "ipython",
    "version": 3
   },
   "file_extension": ".py",
   "mimetype": "text/x-python",
   "name": "python",
   "nbconvert_exporter": "python",
   "pygments_lexer": "ipython3",
   "version": "3.7.4"
  }
 },
 "nbformat": 4,
 "nbformat_minor": 4
}
